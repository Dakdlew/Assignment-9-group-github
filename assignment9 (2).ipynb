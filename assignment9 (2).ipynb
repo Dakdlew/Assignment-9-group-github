{
 "cells": [
  {
   "cell_type": "markdown",
   "metadata": {
    "deletable": false,
    "editable": false,
    "nbgrader": {
     "cell_type": "markdown",
     "checksum": "405d5bcd63583bbcee887410b1af06a6",
     "grade": false,
     "grade_id": "cell-341ab425dfd4205f",
     "locked": true,
     "schema_version": 3,
     "solution": false,
     "task": false
    }
   },
   "source": [
    "# Assignment 9 - The Team, The Team, The Team\n",
    "Let's try a bit of team building! This assignment can be done in arbitrary sized groups as big as the whole class. It's going to require flexing some skills and being independent, but I've got confidence in you! The lecture time on Thursday November 12th will be devoted to working on this assignment in breakout groups, but it's up to __you as a class__ to self organize.\n",
    "\n",
    "Don't want to share? No problem, you can do this in smaller groups too, just remember to list the names of everyone who was involved and hand in one copy by the deadline please!"
   ]
  },
  {
   "cell_type": "markdown",
   "metadata": {},
   "source": [
    "The names and uniquenames of the people who worked on this submission were:\n",
    "* Name, uniquename\n",
    "* Name, uniquename\n",
    "* Name, uniquename\n",
    "* Name, uniquename\n",
    "* Name, uniquename\n",
    "* Name, uniquename\n",
    "* Name, uniquename"
   ]
  },
  {
   "cell_type": "markdown",
   "metadata": {
    "deletable": false,
    "editable": false,
    "nbgrader": {
     "cell_type": "markdown",
     "checksum": "18936eca3f4acf3bce24f4a36e078f38",
     "grade": false,
     "grade_id": "cell-ff5178502319f9db",
     "locked": true,
     "schema_version": 3,
     "solution": false,
     "task": false
    }
   },
   "source": [
    "## Question 1 - 50%\n",
    "Scape one or more websites to build a list of the men's football (2019) and women's softball (2018-2019) games played in the thie Big Ten. This data needs to be turned into a database with three tables:\n",
    "1. __Matches__: a table which describes the matches such as when and where they happened, the teams which played, the results of the match. Basically, I want the data from these sites:\n",
    "* https://bigten.org/stats.aspx?path=football&year=2019#results\n",
    "* https://bigten.org/confstandings.aspx/2018-19/soft?path=softball#standings\n",
    "* https://bigten.org/confschedule.aspx/2018-19/soft?path=softball\n",
    "\n",
    "2. __Plays__: for football, I'd like a table which describes who scored, and when, which should include a time, the team which scored, and so forth. Basically, I want the data from this site: \n",
    "* https://bigten.org/boxscore.aspx?id=r8jpms5mt9YevtitGgQBy0ei0qXBGKLTtZjhwPYJuA0PKfPkGJBtbwMLxCqWiCQNRUwEQ6PljW0jmgJb%2fgercesJ7CrNhXcHB14V5csY8AzyrdfPfeeoo8xrXAxNEkdv&path=football\n",
    "\n",
    "3. __Universities__: a table which describes the universities which have teams in the sports. The pertinent numbers I'm interested in are the location of the university (state and geo-coordinates), when it was established, the endowment, and the number of students. You can get this kind of information from the right hand box in wikipedia, e.g.:\n",
    "* https://en.wikipedia.org/wiki/University_of_Michigan\n",
    "\n",
    "All of this should be loaded into a database where the `Matches` table has foreign keys into the `Universities` table and the `Plays` table (for football) has foreign keys into the `Matches` table.\n",
    "\n",
    "Tips:\n",
    "* __Divide and conquer__: You have the whole class as a team, think about the scraping of the two sports as well as the plays and university details as separate tasks.\n",
    "* __Keep it simple__: You need to get the info neccessary to answer a few queries (below), nothing more. Don't try and build a whole content management system.\n",
    "* __Many ways to skin a cat__: There are several tools you can use to accomplish this, including:\n",
    "  * `pd.read_html` to turn HTML into `DataFrame`\n",
    "  * `DataFrame.to_sql` to turn `DataFrame` into SQL stables\n",
    "  * selenium (hard but comprehensive) or beautiful soup/requests (moderate) or even scrapy to scrape data\n",
    "  * save pages to local files and work on those files (this is fine!)"
   ]
  },
  {
   "cell_type": "code",
   "execution_count": 4,
   "metadata": {
    "deletable": false,
    "nbgrader": {
     "cell_type": "code",
     "checksum": "b27902cf184c5b7b7d117d24251bcf65",
     "grade": true,
     "grade_id": "cell-95d92fdde709de62",
     "locked": false,
     "points": 40,
     "schema_version": 3,
     "solution": true,
     "task": false
    }
   },
   "outputs": [
    {
     "name": "stdout",
     "output_type": "stream",
     "text": [
      "/bin/sh: 1: curl: not found\n",
      "/bin/sh: 1: curl: not found\n"
     ]
    }
   ],
   "source": [
    "!curl \"https://bigten.org/confstandings.aspx/2018-19/soft?path=softball#standings/\" -o --'Softball2018-2019_SCHEDULE-test.html'\n",
    "!curl \"https://bigten.org/confstandings.aspx/2018-19/soft?path=softball#standings#results\" -o --'Softball2018-2019-RESULTS-test.html'"
   ]
  },
  {
   "cell_type": "code",
   "execution_count": 1,
   "metadata": {},
   "outputs": [],
   "source": [
    "import pandas as pd\n",
    "import numpy as np\n",
    "\n",
    "SB_Results = pd.read_html('BigTen_Softball_results-test.html')\n",
    "SB_Sched = pd.read_html('SB_Standings-test.html')\n",
    "#FB_Match =pd.read_html('--MFootBall_MATCHES.html')\n",
    "#FB_Plays =pd.read_html('--MFootBall_Plays.html')\n",
    "#Umich_wiki =pd.read_html('--Umichwiki.html')\n",
    "lst = [SB_Results,SB_Sched]"
   ]
  },
  {
   "cell_type": "code",
   "execution_count": 2,
   "metadata": {},
   "outputs": [],
   "source": [
    "df1 = SB_Sched[0].drop(columns=['Unnamed: 3', 'Unnamed: 4'])"
   ]
  },
  {
   "cell_type": "code",
   "execution_count": 3,
   "metadata": {},
   "outputs": [
    {
     "data": {
      "text/html": [
       "<div>\n",
       "<style scoped>\n",
       "    .dataframe tbody tr th:only-of-type {\n",
       "        vertical-align: middle;\n",
       "    }\n",
       "\n",
       "    .dataframe tbody tr th {\n",
       "        vertical-align: top;\n",
       "    }\n",
       "\n",
       "    .dataframe thead th {\n",
       "        text-align: right;\n",
       "    }\n",
       "</style>\n",
       "<table border=\"1\" class=\"dataframe\">\n",
       "  <thead>\n",
       "    <tr style=\"text-align: right;\">\n",
       "      <th></th>\n",
       "      <th>Date</th>\n",
       "      <th>Game</th>\n",
       "      <th>Location</th>\n",
       "    </tr>\n",
       "  </thead>\n",
       "  <tbody>\n",
       "    <tr>\n",
       "      <th>0</th>\n",
       "      <td>Feb. 8, 2019</td>\n",
       "      <td>Indiana 9, Virginia 1</td>\n",
       "      <td>Boca Raton, FL</td>\n",
       "    </tr>\n",
       "    <tr>\n",
       "      <th>1</th>\n",
       "      <td>NaN</td>\n",
       "      <td>Michigan 4, North Carolina St. 3</td>\n",
       "      <td>Tampa, FL</td>\n",
       "    </tr>\n",
       "    <tr>\n",
       "      <th>2</th>\n",
       "      <td>NaN</td>\n",
       "      <td>Wisconsin 9, Omaha 1</td>\n",
       "      <td>Houston, TX.</td>\n",
       "    </tr>\n",
       "    <tr>\n",
       "      <th>3</th>\n",
       "      <td>NaN</td>\n",
       "      <td>Maryland 6, Murray St. 3</td>\n",
       "      <td>Troy, AL</td>\n",
       "    </tr>\n",
       "    <tr>\n",
       "      <th>4</th>\n",
       "      <td>NaN</td>\n",
       "      <td>Indiana 2, Bethune-Cookman 1</td>\n",
       "      <td>Boca Raton, FL</td>\n",
       "    </tr>\n",
       "  </tbody>\n",
       "</table>\n",
       "</div>"
      ],
      "text/plain": [
       "           Date                              Game        Location\n",
       "0  Feb. 8, 2019             Indiana 9, Virginia 1  Boca Raton, FL\n",
       "1           NaN  Michigan 4, North Carolina St. 3       Tampa, FL\n",
       "2           NaN              Wisconsin 9, Omaha 1    Houston, TX.\n",
       "3           NaN          Maryland 6, Murray St. 3        Troy, AL\n",
       "4           NaN      Indiana 2, Bethune-Cookman 1  Boca Raton, FL"
      ]
     },
     "execution_count": 3,
     "metadata": {},
     "output_type": "execute_result"
    }
   ],
   "source": [
    "df1.head()"
   ]
  },
  {
   "cell_type": "code",
   "execution_count": 5,
   "metadata": {},
   "outputs": [],
   "source": [
    "df2 = df1['Game'].str.split(', ', expand=True).rename(columns={0:'Team 1', 1:'Team 2'})\n",
    "df3 = pd.concat([df1, df2], axis=1, sort=False)\n",
    "team1result = df3['Team 1'].str.split('( [0-9]+)', expand=True).rename(columns={1:'Team 1 Result'})['Team 1 Result']\n",
    "team2result = df3['Team 2'].str.split('( [0-9]+)', expand=True).rename(columns={1:'Team 2 Result'})['Team 2 Result']\n",
    "df4 = pd.concat([df3, team1result, team2result], axis=1, sort=False)\n",
    "df4['Team 1'] = df4['Team 1'].str.replace(' \\d+', '')\n",
    "df4['Team 2'] = df4['Team 2'].str.replace(' \\d+', '')\n",
    "df4 = df4.drop(columns=['Game'])\n",
    "df4['Date'] = df4['Date'].fillna(method='ffill')"
   ]
  },
  {
   "cell_type": "code",
   "execution_count": 8,
   "metadata": {},
   "outputs": [
    {
     "data": {
      "text/html": [
       "<div>\n",
       "<style scoped>\n",
       "    .dataframe tbody tr th:only-of-type {\n",
       "        vertical-align: middle;\n",
       "    }\n",
       "\n",
       "    .dataframe tbody tr th {\n",
       "        vertical-align: top;\n",
       "    }\n",
       "\n",
       "    .dataframe thead th {\n",
       "        text-align: right;\n",
       "    }\n",
       "</style>\n",
       "<table border=\"1\" class=\"dataframe\">\n",
       "  <thead>\n",
       "    <tr style=\"text-align: right;\">\n",
       "      <th></th>\n",
       "      <th>Date</th>\n",
       "      <th>Location</th>\n",
       "      <th>Team 1</th>\n",
       "      <th>Team 2</th>\n",
       "      <th>Team 1 Result</th>\n",
       "      <th>Team 2 Result</th>\n",
       "    </tr>\n",
       "  </thead>\n",
       "  <tbody>\n",
       "    <tr>\n",
       "      <th>0</th>\n",
       "      <td>Feb. 8, 2019</td>\n",
       "      <td>Boca Raton, FL</td>\n",
       "      <td>Indiana</td>\n",
       "      <td>Virginia</td>\n",
       "      <td>9</td>\n",
       "      <td>1</td>\n",
       "    </tr>\n",
       "    <tr>\n",
       "      <th>1</th>\n",
       "      <td>Feb. 8, 2019</td>\n",
       "      <td>Tampa, FL</td>\n",
       "      <td>Michigan</td>\n",
       "      <td>North Carolina St.</td>\n",
       "      <td>4</td>\n",
       "      <td>3</td>\n",
       "    </tr>\n",
       "    <tr>\n",
       "      <th>2</th>\n",
       "      <td>Feb. 8, 2019</td>\n",
       "      <td>Houston, TX.</td>\n",
       "      <td>Wisconsin</td>\n",
       "      <td>Omaha</td>\n",
       "      <td>9</td>\n",
       "      <td>1</td>\n",
       "    </tr>\n",
       "    <tr>\n",
       "      <th>3</th>\n",
       "      <td>Feb. 8, 2019</td>\n",
       "      <td>Troy, AL</td>\n",
       "      <td>Maryland</td>\n",
       "      <td>Murray St.</td>\n",
       "      <td>6</td>\n",
       "      <td>3</td>\n",
       "    </tr>\n",
       "    <tr>\n",
       "      <th>4</th>\n",
       "      <td>Feb. 8, 2019</td>\n",
       "      <td>Boca Raton, FL</td>\n",
       "      <td>Indiana</td>\n",
       "      <td>Bethune-Cookman</td>\n",
       "      <td>2</td>\n",
       "      <td>1</td>\n",
       "    </tr>\n",
       "  </tbody>\n",
       "</table>\n",
       "</div>"
      ],
      "text/plain": [
       "           Date        Location     Team 1              Team 2 Team 1 Result  \\\n",
       "0  Feb. 8, 2019  Boca Raton, FL    Indiana            Virginia             9   \n",
       "1  Feb. 8, 2019       Tampa, FL   Michigan  North Carolina St.             4   \n",
       "2  Feb. 8, 2019    Houston, TX.  Wisconsin               Omaha             9   \n",
       "3  Feb. 8, 2019        Troy, AL   Maryland          Murray St.             6   \n",
       "4  Feb. 8, 2019  Boca Raton, FL    Indiana     Bethune-Cookman             2   \n",
       "\n",
       "  Team 2 Result  \n",
       "0             1  \n",
       "1             3  \n",
       "2             1  \n",
       "3             3  \n",
       "4             1  "
      ]
     },
     "execution_count": 8,
     "metadata": {},
     "output_type": "execute_result"
    }
   ],
   "source": [
    "df4.head()"
   ]
  },
  {
   "cell_type": "markdown",
   "metadata": {
    "deletable": false,
    "editable": false,
    "nbgrader": {
     "cell_type": "markdown",
     "checksum": "07e652e0e35ada2fc08d3ce511d8f2d0",
     "grade": false,
     "grade_id": "cell-b6b34f293364e71e",
     "locked": true,
     "schema_version": 3,
     "solution": false,
     "task": false
    }
   },
   "source": [
    "## Question 2 - 15%\n",
    "For Football, calculate the average number of points per match per team"
   ]
  },
  {
   "cell_type": "code",
   "execution_count": null,
   "metadata": {
    "deletable": false,
    "nbgrader": {
     "cell_type": "code",
     "checksum": "8eec9f5af569f04ddb3dad3eda0ba100",
     "grade": true,
     "grade_id": "cell-e19a862ef0cc8eed",
     "locked": false,
     "points": 12,
     "schema_version": 3,
     "solution": true,
     "task": false
    }
   },
   "outputs": [],
   "source": [
    "# YOUR CODE HERE\n",
    "raise NotImplementedError()"
   ]
  },
  {
   "cell_type": "markdown",
   "metadata": {
    "deletable": false,
    "editable": false,
    "nbgrader": {
     "cell_type": "markdown",
     "checksum": "dab1f88a4a58864de7a6bb9e7ce806c9",
     "grade": false,
     "grade_id": "cell-76c34e3360f10969",
     "locked": true,
     "schema_version": 3,
     "solution": false,
     "task": false
    }
   },
   "source": [
    "## Question 3 - 15%\n",
    "Which university has the highest combined rank for the softball and football pair? A university is ranked 1 if they have the highest number of wins to losses (count ties as both ranked the same), ranked 2 if they have the second highest win to loss ratio and so forth. The combined rank is equivilent to the universities rank in both sports added together after they have been normalized based on the number of teams available."
   ]
  },
  {
   "cell_type": "code",
   "execution_count": null,
   "metadata": {
    "deletable": false,
    "nbgrader": {
     "cell_type": "code",
     "checksum": "cf8e8289b4ac1f8114b6e4e3c13bb6bc",
     "grade": true,
     "grade_id": "cell-8c3d912926c475a9",
     "locked": false,
     "points": 12,
     "schema_version": 3,
     "solution": true,
     "task": false
    }
   },
   "outputs": [],
   "source": [
    "# YOUR CODE HERE\n",
    "raise NotImplementedError()"
   ]
  },
  {
   "cell_type": "markdown",
   "metadata": {
    "deletable": false,
    "editable": false,
    "nbgrader": {
     "cell_type": "markdown",
     "checksum": "f50893a398405a162aaad54e970a9183",
     "grade": false,
     "grade_id": "cell-750da9a73de929d9",
     "locked": true,
     "schema_version": 3,
     "solution": false,
     "task": false
    }
   },
   "source": [
    "## Question 4 - 20%\n",
    "Is bigger better? Calculate the correlation between the rank of number of students at the institution and the rank of the football team. Does having more students increase chances of success?\n",
    "\n",
    "Fee free to use Kendall's $\\tau$ for this using [https://docs.scipy.org/doc/scipy/reference/generated/scipy.stats.kendalltau.html]"
   ]
  },
  {
   "cell_type": "code",
   "execution_count": null,
   "metadata": {
    "deletable": false,
    "nbgrader": {
     "cell_type": "code",
     "checksum": "814387106e1214bbcc70c8c7f33eaa15",
     "grade": true,
     "grade_id": "cell-05047b4b4da3b4a6",
     "locked": false,
     "points": 16,
     "schema_version": 3,
     "solution": true,
     "task": false
    }
   },
   "outputs": [],
   "source": [
    "# YOUR CODE HERE\n",
    "raise NotImplementedError()"
   ]
  }
 ],
 "metadata": {
  "kernelspec": {
   "display_name": "Python 3",
   "language": "python",
   "name": "python3"
  },
  "language_info": {
   "codemirror_mode": {
    "name": "ipython",
    "version": 3
   },
   "file_extension": ".py",
   "mimetype": "text/x-python",
   "name": "python",
   "nbconvert_exporter": "python",
   "pygments_lexer": "ipython3",
   "version": "3.7.3"
  }
 },
 "nbformat": 4,
 "nbformat_minor": 4
}
